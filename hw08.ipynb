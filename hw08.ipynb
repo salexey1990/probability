{
 "cells": [
  {
   "cell_type": "code",
   "execution_count": 1,
   "metadata": {},
   "outputs": [],
   "source": [
    "import numpy as np\n",
    "from scipy import stats\n",
    "from matplotlib import pyplot as plt"
   ]
  },
  {
   "cell_type": "markdown",
   "metadata": {},
   "source": [
    "# 1"
   ]
  },
  {
   "cell_type": "code",
   "execution_count": 32,
   "metadata": {},
   "outputs": [
    {
     "data": {
      "text/plain": [
       "(179.125, 178.66666666666666, 172.72727272727272)"
      ]
     },
     "execution_count": 32,
     "metadata": {},
     "output_type": "execute_result"
    }
   ],
   "source": [
    "football_players = np.array([173, 175, 180, 178, 177, 185, 183, 182])\n",
    "hockey_players = np.array([177, 179, 180, 188, 177, 172, 171, 184, 180])\n",
    "lifters = np.array([172, 173, 169, 177, 166, 180, 178, 177, 172, 166, 170])\n",
    "\n",
    "football_players_n = football_players.size\n",
    "hockey_players_n = hockey_players.size\n",
    "lifters_n = lifters.size\n",
    "\n",
    "football_players_mean = football_players.mean()\n",
    "hockey_players_mean = hockey_players.mean()\n",
    "lifters_mean = lifters.mean()\n",
    "\n",
    "all_sportsmen = np.concatenate([football_players, hockey_players, lifters])\n",
    "all_sportsmen_n = all_sportsmen.size\n",
    "all_sportsmen_mean = all_sportsmen.mean()\n",
    "\n",
    "football_players_mean, hockey_players_mean, lifters_mean"
   ]
  },
  {
   "cell_type": "markdown",
   "metadata": {},
   "source": [
    "В качестве нулевой гипотезы примем предположение о том, что среднее значение роста спортсменов различных дисциплин не отличаются"
   ]
  },
  {
   "cell_type": "code",
   "execution_count": 22,
   "metadata": {},
   "outputs": [
    {
     "data": {
      "text/plain": [
       "830.9642857142854"
      ]
     },
     "execution_count": 22,
     "metadata": {},
     "output_type": "execute_result"
    }
   ],
   "source": [
    "S_2 = ((all_sportsmen - all_sportsmen_mean)**2).sum()\n",
    "S_2"
   ]
  },
  {
   "cell_type": "code",
   "execution_count": 23,
   "metadata": {},
   "outputs": [
    {
     "data": {
      "text/plain": [
       "253.9074675324678"
      ]
     },
     "execution_count": 23,
     "metadata": {},
     "output_type": "execute_result"
    }
   ],
   "source": [
    "S_f_2 = ((football_players_mean - all_sportsmen_mean)**2 * football_players_n) + \\\n",
    "        ((hockey_players_mean - all_sportsmen_mean)**2 * hockey_players_n) + \\\n",
    "        ((lifters_mean - all_sportsmen_mean)**2 * lifters_n)\n",
    "S_f_2"
   ]
  },
  {
   "cell_type": "code",
   "execution_count": 24,
   "metadata": {},
   "outputs": [
    {
     "data": {
      "text/plain": [
       "577.0568181818182"
      ]
     },
     "execution_count": 24,
     "metadata": {},
     "output_type": "execute_result"
    }
   ],
   "source": [
    "S_res_2 = ((football_players - football_players_mean)** 2).sum() + \\\n",
    "            ((hockey_players - hockey_players_mean)** 2).sum() + \\\n",
    "            ((lifters - lifters_mean)** 2).sum()\n",
    "S_res_2"
   ]
  },
  {
   "cell_type": "code",
   "execution_count": 25,
   "metadata": {},
   "outputs": [
    {
     "data": {
      "text/plain": [
       "830.964285714286"
      ]
     },
     "execution_count": 25,
     "metadata": {},
     "output_type": "execute_result"
    }
   ],
   "source": [
    "S_res_2 + S_f_2"
   ]
  },
  {
   "cell_type": "code",
   "execution_count": 26,
   "metadata": {},
   "outputs": [
    {
     "data": {
      "text/plain": [
       "28.67729591836734"
      ]
     },
     "execution_count": 26,
     "metadata": {},
     "output_type": "execute_result"
    }
   ],
   "source": [
    "s_2 = S_2 / all_sportsmen_n - 1\n",
    "s_2"
   ]
  },
  {
   "cell_type": "code",
   "execution_count": 27,
   "metadata": {},
   "outputs": [
    {
     "data": {
      "text/plain": [
       "83.63582251082259"
      ]
     },
     "execution_count": 27,
     "metadata": {},
     "output_type": "execute_result"
    }
   ],
   "source": [
    "s_f_2 = S_f_2 / 3-1\n",
    "s_f_2"
   ]
  },
  {
   "cell_type": "code",
   "execution_count": 28,
   "metadata": {},
   "outputs": [
    {
     "data": {
      "text/plain": [
       "17.60917207792208"
      ]
     },
     "execution_count": 28,
     "metadata": {},
     "output_type": "execute_result"
    }
   ],
   "source": [
    "s_res_2 = S_res_2 / all_sportsmen_n - 3\n",
    "s_res_2"
   ]
  },
  {
   "cell_type": "markdown",
   "metadata": {},
   "source": [
    "Сразу расчитаем статистику Т для проверки нашей нулевой гипотезы. В нашем случае это"
   ]
  },
  {
   "cell_type": "code",
   "execution_count": 29,
   "metadata": {},
   "outputs": [
    {
     "data": {
      "text/plain": [
       "4.749560180383665"
      ]
     },
     "execution_count": 29,
     "metadata": {},
     "output_type": "execute_result"
    }
   ],
   "source": [
    "T = s_f_2 / s_res_2\n",
    "T"
   ]
  },
  {
   "cell_type": "markdown",
   "metadata": {},
   "source": [
    "Найдём критическое значение для распределения фишера со следующими параметрами\n"
   ]
  },
  {
   "cell_type": "code",
   "execution_count": 31,
   "metadata": {},
   "outputs": [
    {
     "data": {
      "text/plain": [
       "3.3851899614491687"
      ]
     },
     "execution_count": 31,
     "metadata": {},
     "output_type": "execute_result"
    }
   ],
   "source": [
    "alpha = 0.05\n",
    "k1 = 3 - 1\n",
    "k2 = all_sportsmen_n - 3\n",
    "\n",
    "F_crit = stats.f.ppf(1 - alpha, k1, k2)\n",
    "F_crit"
   ]
  },
  {
   "cell_type": "markdown",
   "metadata": {},
   "source": [
    "В нашем случае $T$ получилась больше чем $Fcrit$, значит мы можем отклонить нулевую гипотезу с уверенностью 0.95"
   ]
  },
  {
   "cell_type": "markdown",
   "metadata": {},
   "source": [
    "# 2"
   ]
  },
  {
   "cell_type": "markdown",
   "metadata": {},
   "source": [
    "Нулевой гипотезой в нашем случае будет утверждение о равенстве средних для двух выборк. Для начала найдём величину $X$, и несмещённую оценка среднего квадратического отклонения этой случайной величины"
   ]
  },
  {
   "cell_type": "code",
   "execution_count": 34,
   "metadata": {},
   "outputs": [
    {
     "data": {
      "text/plain": [
       "(0.4583333333333428, 2.2998770671080497)"
      ]
     },
     "execution_count": 34,
     "metadata": {},
     "output_type": "execute_result"
    }
   ],
   "source": [
    "X = football_players_mean - hockey_players_mean\n",
    "s = np.sqrt((np.var(football_players, ddof=1)/football_players_n) + np.var(hockey_players, ddof=1)/hockey_players_n)\n",
    "X,s"
   ]
  },
  {
   "cell_type": "markdown",
   "metadata": {},
   "source": [
    "Статистика $T$, которую мы будем рассматривать является отношение двух найденных выше величин"
   ]
  },
  {
   "cell_type": "code",
   "execution_count": 36,
   "metadata": {},
   "outputs": [
    {
     "data": {
      "text/plain": [
       "0.19928601397363732"
      ]
     },
     "execution_count": 36,
     "metadata": {},
     "output_type": "execute_result"
    }
   ],
   "source": [
    "T = X/s\n",
    "T"
   ]
  },
  {
   "cell_type": "markdown",
   "metadata": {},
   "source": [
    "Теперь найдём критическую область"
   ]
  },
  {
   "cell_type": "code",
   "execution_count": 38,
   "metadata": {},
   "outputs": [
    {
     "data": {
      "text/plain": [
       "2.131449545559323"
      ]
     },
     "execution_count": 38,
     "metadata": {},
     "output_type": "execute_result"
    }
   ],
   "source": [
    "alpha = 0.05\n",
    "ddof = football_players_n + hockey_players_n - 2\n",
    "t = stats.t.ppf(1 - alpha / 2, ddof)\n",
    "t"
   ]
  },
  {
   "cell_type": "markdown",
   "metadata": {},
   "source": [
    "Таким образом мы получили критическую область\n",
    "$$\\Omega_\\alpha = \\left( -\\infty, - 2.1314 \\right) \\cup \\left( 2.1314, \\infty \\right).$$\n",
    "\n",
    "Наша $T$ не лежит ни в одном из интервалов критической области, значит, нулевая гипотеза верна и средний рост футболистов равен среднему росту хоккеистов"
   ]
  },
  {
   "cell_type": "code",
   "execution_count": null,
   "metadata": {},
   "outputs": [],
   "source": []
  }
 ],
 "metadata": {
  "kernelspec": {
   "display_name": "Python 3",
   "language": "python",
   "name": "python3"
  },
  "language_info": {
   "codemirror_mode": {
    "name": "ipython",
    "version": 3
   },
   "file_extension": ".py",
   "mimetype": "text/x-python",
   "name": "python",
   "nbconvert_exporter": "python",
   "pygments_lexer": "ipython3",
   "version": "3.7.1"
  }
 },
 "nbformat": 4,
 "nbformat_minor": 2
}
