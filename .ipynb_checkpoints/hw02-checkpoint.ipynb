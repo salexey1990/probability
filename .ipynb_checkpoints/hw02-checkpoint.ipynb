{
 "cells": [
  {
   "cell_type": "code",
   "execution_count": 1,
   "metadata": {},
   "outputs": [],
   "source": [
    "import numpy as np"
   ]
  },
  {
   "cell_type": "markdown",
   "metadata": {},
   "source": [
    "# 1"
   ]
  },
  {
   "cell_type": "markdown",
   "metadata": {},
   "source": [
    "Задачей требуется составить закон распределения числа правильных ответов при угадывании. В тесте из пяти вопросов может быть 0,1,2,3,4,5 правильных ответов. Вероятность каждого из вариантов найдём с помощью формулы Бернулли"
   ]
  },
  {
   "cell_type": "markdown",
   "metadata": {},
   "source": [
    "$$P(X = k) = C_n^k p^k (1 - p)^{n - k}$$"
   ]
  },
  {
   "cell_type": "code",
   "execution_count": 2,
   "metadata": {},
   "outputs": [],
   "source": [
    "def combinations(n: int, k: int) -> int:\n",
    "    \"\"\"Число сочетаний.\n",
    "    \"\"\"\n",
    "    \n",
    "    return np.math.factorial(n) // (np.math.factorial(k) * np.math.factorial(n - k))"
   ]
  },
  {
   "cell_type": "code",
   "execution_count": 3,
   "metadata": {},
   "outputs": [],
   "source": [
    "def p_binom(n: int, k: int, p: int) -> int:\n",
    "    \"\"\"Вероятность случайной величины в биномиальном распределении.\n",
    "    \"\"\"\n",
    "    \n",
    "    return combinations(n,k)*p**k*(1-p)**(n-k)"
   ]
  },
  {
   "cell_type": "code",
   "execution_count": 5,
   "metadata": {},
   "outputs": [
    {
     "name": "stdout",
     "output_type": "stream",
     "text": [
      "[0.2373046875, 0.3955078125, 0.263671875, 0.087890625, 0.0146484375, 0.0009765625]\n",
      "1.0\n"
     ]
    }
   ],
   "source": [
    "x_probabilities = [p_binom(5,x,0.25) for x in range(0,6)]\n",
    "print(x_probabilities)\n",
    "print(sum(x_probabilities))"
   ]
  },
  {
   "cell_type": "code",
   "execution_count": 7,
   "metadata": {},
   "outputs": [],
   "source": [
    "x_values = np.arange(0,6)\n"
   ]
  },
  {
   "cell_type": "code",
   "execution_count": 8,
   "metadata": {},
   "outputs": [
    {
     "name": "stdout",
     "output_type": "stream",
     "text": [
      "1.25\n"
     ]
    }
   ],
   "source": [
    "m = x_values.dot(x_probabilities)\n",
    "\n",
    "print(m)"
   ]
  },
  {
   "cell_type": "code",
   "execution_count": 9,
   "metadata": {},
   "outputs": [
    {
     "data": {
      "text/plain": [
       "0.9375"
      ]
     },
     "execution_count": 9,
     "metadata": {},
     "output_type": "execute_result"
    }
   ],
   "source": [
    "d = ((x_values-m)**2).dot(x_probabilities)\n",
    "d"
   ]
  },
  {
   "cell_type": "markdown",
   "metadata": {},
   "source": [
    "# 2"
   ]
  },
  {
   "cell_type": "markdown",
   "metadata": {},
   "source": [
    "По условию задачи нам нужно найти ветоятность того, что при 200 выстрелов будет 5 ИЛИ 6 ИЛИ 7 ИЛИ 8 ИЛИ 9 ИЛИ 10 попаданий. При помощи формулы Бернулли найдём ветоятности заданных количеств попаданий."
   ]
  },
  {
   "cell_type": "code",
   "execution_count": 17,
   "metadata": {},
   "outputs": [
    {
     "name": "stdout",
     "output_type": "stream",
     "text": [
      "[0.03572335672160829, 0.011727364580325954, 0.0032829851783307863, 0.0008000203780528306, 0.000172394963620812, 3.326003843593443e-05]\n",
      "0.051739381860374606\n"
     ]
    }
   ],
   "source": [
    "x_probabilities = [p_binom(200,x,0.01) for x in range(5,11)]\n",
    "print(x_probabilities)\n",
    "print(sum(x_probabilities))"
   ]
  },
  {
   "cell_type": "markdown",
   "metadata": {},
   "source": [
    "Ветоятность, что количество попаданий при 200 выстрелах лежит в пределах [5;10] равна 0.051739381860374606"
   ]
  },
  {
   "cell_type": "markdown",
   "metadata": {},
   "source": [
    "# 3"
   ]
  },
  {
   "cell_type": "markdown",
   "metadata": {},
   "source": [
    "Поскольку нам не задано число экспериментов, и мы имеем дело со счётчиком, будем работать с распределением Пуассона. Поскольку выстрелов может быть очень много, то вероятность того, что будет совершено хотябы 10 попаданий представим в виде 1 - (P(0) + P(2) + ... + P(9)). Подберём вручную коэффициэнт а, для того, чтобы заданная вероятность получилась равной 0.9"
   ]
  },
  {
   "cell_type": "code",
   "execution_count": 23,
   "metadata": {},
   "outputs": [],
   "source": [
    "def p_poisson(a,k):\n",
    "    \n",
    "    return (a ** k) * (np.exp(-a)) / np.math.factorial(k)"
   ]
  },
  {
   "cell_type": "code",
   "execution_count": 46,
   "metadata": {},
   "outputs": [
    {
     "name": "stdout",
     "output_type": "stream",
     "text": [
      "[6.740240797771206e-07, 9.577882173632883e-06, 6.805085284366165e-05, 0.0003223342063028107, 0.0011450922678907349, 0.0032543522253454687, 0.007707390853693185, 0.01564600343299717, 0.02779121359786122, 0.04387923835840089]\n",
      "0.9001760722984115\n"
     ]
    }
   ],
   "source": [
    "x_probabilities = [p_poisson(14.21,x) for x in range(0,10)]\n",
    "print(x_probabilities)\n",
    "print(1-sum(x_probabilities))"
   ]
  },
  {
   "cell_type": "markdown",
   "metadata": {},
   "source": [
    "Из коэффициэнта а выразим количество испытаний как $$n = a/p$$"
   ]
  },
  {
   "cell_type": "code",
   "execution_count": 47,
   "metadata": {},
   "outputs": [
    {
     "data": {
      "text/plain": [
       "1421.0"
      ]
     },
     "execution_count": 47,
     "metadata": {},
     "output_type": "execute_result"
    }
   ],
   "source": [
    "14.21/0.01"
   ]
  },
  {
   "cell_type": "code",
   "execution_count": null,
   "metadata": {},
   "outputs": [],
   "source": []
  }
 ],
 "metadata": {
  "kernelspec": {
   "display_name": "Python 3",
   "language": "python",
   "name": "python3"
  },
  "language_info": {
   "codemirror_mode": {
    "name": "ipython",
    "version": 3
   },
   "file_extension": ".py",
   "mimetype": "text/x-python",
   "name": "python",
   "nbconvert_exporter": "python",
   "pygments_lexer": "ipython3",
   "version": "3.7.1"
  }
 },
 "nbformat": 4,
 "nbformat_minor": 2
}
