{
 "cells": [
  {
   "cell_type": "code",
   "execution_count": 8,
   "metadata": {},
   "outputs": [],
   "source": [
    "import numpy as np\n",
    "from scipy import stats"
   ]
  },
  {
   "cell_type": "markdown",
   "metadata": {},
   "source": [
    "# 1"
   ]
  },
  {
   "cell_type": "markdown",
   "metadata": {},
   "source": [
    "Сформулируем нулевю гипотизу как: средний диаметр шариков = 17 мм, и альтернативную: средний диаметр больше 17мм (так как мы будем использовать правостороннюю критическую область)\n",
    "\n",
    "Поскольку из условия задачи нам известна дисперсия, и мы делаем предположение о среднем значении, в качестве функции $T$ используем выборочное среднее\n",
    "$$T(X) = \\dfrac{1}{n} \\displaystyle\\sum_{i = 1}^n x_i,$$\n",
    "\n",
    "Оно нам известно по условию задачи и равняется 17,5\n",
    "\n",
    "Полагая, что наша величина распределена по нормальному закону, найдём её параметры: $а = 17$, $\\sigma = \\dfrac{\\sqrt{4}}{\\sqrt{n}} = 0.2$\n",
    "\n",
    "Уровень значимости по условию задачи = $\\alpha = 0.025$\n",
    "\n",
    "Далее нас интересует правосторонняя критическая область: $\\Omega_\\alpha = (t_{1 - \\alpha}, \\infty)$. Поскольку величина распределена по нормальному закону, можно воспользоваться правилом двух сигм, согласно которому, вероятность попасть в область\n",
    "\n",
    "$$\\left( a + 2\\sigma, \\infty \\right) = 0.025$$\n",
    "\n",
    "Итого, наша область $\\left( 17,4, \\infty \\right)$. Поскольку средний диаметр шариков попадает в расчитаную критическую область, мы можем отклонить нулевую гипотизу о том, что генеральная выборка имеет среднее = 17"
   ]
  },
  {
   "cell_type": "markdown",
   "metadata": {},
   "source": [
    "# 2"
   ]
  },
  {
   "cell_type": "markdown",
   "metadata": {},
   "source": [
    "Среднее квадратичное отклонение выборочного среднего находится по формуле\n",
    "\n",
    "$$\\sigma = \\sqrt{\\dfrac{D(X)}{n}}$$\n",
    "\n",
    "Дисперсия генеральной совокупности и объём выборки нам известны из условия задачи, так что мы можем посчитать $\\sigma = 1$\n",
    "\n",
    "Доверительный интервал:"
   ]
  },
  {
   "cell_type": "code",
   "execution_count": 2,
   "metadata": {},
   "outputs": [
    {
     "data": {
      "text/plain": [
       "(78, 82)"
      ]
     },
     "execution_count": 2,
     "metadata": {},
     "output_type": "execute_result"
    }
   ],
   "source": [
    "m = 80\n",
    "d = 1\n",
    "(m-2*d,m+2*d)"
   ]
  },
  {
   "cell_type": "markdown",
   "metadata": {},
   "source": [
    "С вероятностью 95% можно утверждать, что математическое ожидание генеральной совокупности лежит в интервале (78, 82)"
   ]
  },
  {
   "cell_type": "markdown",
   "metadata": {},
   "source": [
    "# 3"
   ]
  },
  {
   "cell_type": "code",
   "execution_count": 6,
   "metadata": {},
   "outputs": [
    {
     "data": {
      "text/plain": [
       "(10, 198.5, 4.453463071962462)"
      ]
     },
     "execution_count": 6,
     "metadata": {},
     "output_type": "execute_result"
    }
   ],
   "source": [
    "samples = np.array([202, 203, 199, 197, 195, 201, 200, 204, 194, 190])\n",
    "n = samples.size\n",
    "m = samples.mean()\n",
    "s = samples.std(ddof=1)\n",
    "n,m,s"
   ]
  },
  {
   "cell_type": "markdown",
   "metadata": {},
   "source": [
    "нулевая гипотеза: средний вес пачки = 200г\n",
    "\n",
    "альтернативная гипотеза: средний вес пачки != 200г\n",
    "\n",
    "Поскольку нам не известна дисперсия генеральной совокупности, мы можем воспользоваться __t-критерием Стьюдента__ для проверки статистической гипотизы.\n",
    "\n",
    "$$T = \\dfrac{\\overline{X} - m}{\\sigma_X / \\sqrt{n}},$$\n",
    "\n",
    "Для уровня значимости $\\alpha = 0.01$ найдём значение критического интервала"
   ]
  },
  {
   "cell_type": "code",
   "execution_count": 10,
   "metadata": {},
   "outputs": [
    {
     "data": {
      "text/plain": [
       "3.2498355440153697"
      ]
     },
     "execution_count": 10,
     "metadata": {},
     "output_type": "execute_result"
    }
   ],
   "source": [
    "alpha = 0.01\n",
    "stats.t.ppf(1 - alpha / 2, 9)"
   ]
  },
  {
   "cell_type": "markdown",
   "metadata": {},
   "source": [
    "В нашем случае критический интервал:\n",
    "\n",
    "$$\\Omega_\\alpha = \\left( -\\infty, - 3.2498 \\right) \\cup \\left( 3.2498, \\infty \\right).$$\n",
    "\n",
    "Теперь рассчитаем значение t для наших данных"
   ]
  },
  {
   "cell_type": "code",
   "execution_count": 7,
   "metadata": {},
   "outputs": [
    {
     "data": {
      "text/plain": [
       "-1.0651074037450896"
      ]
     },
     "execution_count": 7,
     "metadata": {},
     "output_type": "execute_result"
    }
   ],
   "source": [
    "(m-200)/(s/np.sqrt(n))"
   ]
  },
  {
   "cell_type": "markdown",
   "metadata": {},
   "source": [
    "Как видно, рассчитанное значение не входит в критический интервал, значит у нас нет оснований отклонять нулевую гипотезу\n"
   ]
  }
 ],
 "metadata": {
  "kernelspec": {
   "display_name": "Python 3",
   "language": "python",
   "name": "python3"
  },
  "language_info": {
   "codemirror_mode": {
    "name": "ipython",
    "version": 3
   },
   "file_extension": ".py",
   "mimetype": "text/x-python",
   "name": "python",
   "nbconvert_exporter": "python",
   "pygments_lexer": "ipython3",
   "version": "3.7.3"
  }
 },
 "nbformat": 4,
 "nbformat_minor": 2
}
